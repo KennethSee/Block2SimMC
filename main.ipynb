{
 "cells": [
  {
   "cell_type": "markdown",
   "metadata": {},
   "source": [
    "# Block2SimMC Demonstration"
   ]
  },
  {
   "cell_type": "code",
   "execution_count": 1,
   "metadata": {},
   "outputs": [],
   "source": [
    "from PSSimPy import Account, Transaction\n",
    "from textwrap import dedent\n",
    "from pyModelChecking import Kripke\n",
    "import pyModelChecking.LTL as LTL   \n",
    "from itertools import product\n",
    "from abc import ABC, abstractmethod\n",
    "from dataclasses import dataclass, asdict\n",
    "\n",
    "from simulator_class import CollateralizedCreditFacility\n",
    "from modules import ScopeDefinition, PropertyExtraction"
   ]
  },
  {
   "cell_type": "code",
   "execution_count": 2,
   "metadata": {},
   "outputs": [
    {
     "data": {
      "text/plain": [
       "{'functions': [{'name': 'enqueue',\n",
       "   'params': [('uint256', 'amount'),\n",
       "    ('uint256', 'priority'),\n",
       "    ('uint256', 'day'),\n",
       "    ('string', 'time')]},\n",
       "  {'name': 'dequeue', 'params': []},\n",
       "  {'name': 'queueLength', 'params': []}],\n",
       " 'state_variables': []}"
      ]
     },
     "execution_count": 2,
     "metadata": {},
     "output_type": "execute_result"
    }
   ],
   "source": [
    "contract_path = 'smart_contract/priority_queue.sol'\n",
    "scope_definition = ScopeDefinition(contract_path)\n",
    "scope_definition.extract_scope()"
   ]
  },
  {
   "cell_type": "code",
   "execution_count": null,
   "metadata": {},
   "outputs": [],
   "source": []
  }
 ],
 "metadata": {
  "kernelspec": {
   "display_name": "pssimpy-web",
   "language": "python",
   "name": "python3"
  },
  "language_info": {
   "codemirror_mode": {
    "name": "ipython",
    "version": 3
   },
   "file_extension": ".py",
   "mimetype": "text/x-python",
   "name": "python",
   "nbconvert_exporter": "python",
   "pygments_lexer": "ipython3",
   "version": "3.12.5"
  }
 },
 "nbformat": 4,
 "nbformat_minor": 2
}
