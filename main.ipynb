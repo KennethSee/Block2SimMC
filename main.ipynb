{
 "cells": [
  {
   "cell_type": "markdown",
   "metadata": {},
   "source": [
    "# Block2SimMC Demonstration"
   ]
  },
  {
   "cell_type": "code",
   "execution_count": 1,
   "metadata": {},
   "outputs": [],
   "source": [
    "from PSSimPy import Account, Transaction\n",
    "from PSSimPy.queues import PriorityQueue\n",
    "from textwrap import dedent\n",
    "from pyModelChecking import Kripke\n",
    "import pyModelChecking.LTL as LTL   \n",
    "from itertools import product\n",
    "from abc import ABC, abstractmethod\n",
    "from dataclasses import dataclass, asdict\n",
    "\n",
    "from simulator_class import CollateralizedCreditFacility\n",
    "from modules import ScopeDefinition, PropertyExtraction, AdapterBounding"
   ]
  },
  {
   "cell_type": "markdown",
   "metadata": {},
   "source": [
    "# Scope Definition"
   ]
  },
  {
   "cell_type": "code",
   "execution_count": 2,
   "metadata": {},
   "outputs": [],
   "source": [
    "contract_path = 'smart_contract/priority_queue.sol'\n",
    "scope_definition = ScopeDefinition(contract_path)\n",
    "scope = scope_definition.extract_scope()"
   ]
  },
  {
   "cell_type": "markdown",
   "metadata": {},
   "source": [
    "# Property Extraction"
   ]
  },
  {
   "cell_type": "code",
   "execution_count": 3,
   "metadata": {},
   "outputs": [],
   "source": [
    "prop_extractor = PropertyExtraction(scope, \"config/properties.json\")\n",
    "properties = prop_extractor.extract_properties()"
   ]
  },
  {
   "cell_type": "code",
   "execution_count": 4,
   "metadata": {},
   "outputs": [
    {
     "data": {
      "text/plain": [
       "{'safety': [('NoDoubleDequeue', 'G( !(dequeue(tx) && dequeue(tx)) )'),\n",
       "  ('PriorityRespected',\n",
       "   'G( enqueue(tx1) && enqueue(tx2) && priority(tx2) < priority(tx1) -> ! (dequeue(tx1) before dequeue(tx2)) )'),\n",
       "  ('FIFOOnTie',\n",
       "   'G( samePriority(tx1,tx2) && earlierDayTime(tx1,tx2) -> ! (dequeue(tx2) before dequeue(tx1)) )')],\n",
       " 'liveness': [('EnqueueLeadsToDequeue', 'G( enqueue(tx) -> F dequeue(tx) )')]}"
      ]
     },
     "execution_count": 4,
     "metadata": {},
     "output_type": "execute_result"
    }
   ],
   "source": [
    "properties"
   ]
  },
  {
   "cell_type": "markdown",
   "metadata": {},
   "source": [
    "# Adapter & Bounding"
   ]
  },
  {
   "cell_type": "code",
   "execution_count": null,
   "metadata": {},
   "outputs": [
    {
     "name": "stdout",
     "output_type": "stream",
     "text": [
      "Initial state: [State(data=((), (5, 10)))]\n",
      "Some successors: []\n"
     ]
    }
   ],
   "source": [
    "# 1. Prepare accounts and any initial token/state setup\n",
    "accounts = [Account(id='acc1', owner=None, balance=5), Account(id='acc2', owner=None, balance=10)]\n",
    "account_by_id = {acc.id: acc for acc in accounts}\n",
    "\n",
    "# --- (2) Define snapshot_fn and load_fn ---\n",
    "def pq_snapshot(pq: PriorityQueue):\n",
    "    # 1. Serialize the queue as tuples of primitives\n",
    "    entries = []\n",
    "    for txn, period in pq.queue:\n",
    "        entries.append((\n",
    "            txn.sender_account.id,\n",
    "            txn.amount,\n",
    "            txn.priority,\n",
    "            txn.day,\n",
    "            txn.time,\n",
    "            period\n",
    "        ))\n",
    "    # 2. Also capture the account balances\n",
    "    balances = tuple(acc.balance for acc in accounts)\n",
    "    # Return a fully hashable state\n",
    "    return (tuple(entries), balances)\n",
    "\n",
    "def pq_load(pq: PriorityQueue, state):\n",
    "    entries, balances = state\n",
    "    # 1. Reset the queue\n",
    "    pq.queue.clear()\n",
    "    # 2. Reconstruct each Transaction and re-add\n",
    "    for sender_id, amount, prio, day, time, period in entries:\n",
    "        acct = account_by_id[sender_id]\n",
    "        txn  = Transaction(\n",
    "            sender_account=acct,\n",
    "            amount=amount,\n",
    "            priority=prio,\n",
    "            day=day,\n",
    "            time=time\n",
    "        )\n",
    "        # We bypass any balance check in enqueue; instead, insert directly\n",
    "        pq.queue.add((txn, period))\n",
    "    # 3. Restore balances\n",
    "    for acc, bal in zip(accounts, balances):\n",
    "        acc.balance = bal\n",
    "\n",
    "# --- (3) Define actions and bounds ---\n",
    "actions = [\n",
    "    {\n",
    "        \"name\":   \"enqueue\",\n",
    "        \"params\": [(1,0,1,\"08:00\"), (2,1,2,\"09:00\")],\n",
    "        \"label\":  \"enqueue\",\n",
    "        \"guard\":  lambda inst, args: True\n",
    "    },\n",
    "    {\n",
    "        \"name\":   \"dequeue\",\n",
    "        \"params\": [()],\n",
    "        \"label\":  \"dequeue\",\n",
    "        \"guard\":  lambda inst, _: True\n",
    "    }\n",
    "]\n",
    "\n",
    "bounds = {\n",
    "    \"amounts\":    [1,2],\n",
    "    \"priorities\": [0,1],\n",
    "    \"max_day\":     2,\n",
    "    \"times\":      [\"08:00\",\"09:00\"]\n",
    "}\n",
    "\n",
    "# --- (4) Instantiate the generic Adapter & Bounding ---\n",
    "adapter = AdapterBounding(\n",
    "    impl_cls         = PriorityQueue,\n",
    "    constructor_args = (),\n",
    "    constructor_kwargs={},\n",
    "    actions          = actions,\n",
    "    snapshot_fn      = pq_snapshot,\n",
    "    load_fn          = pq_load,\n",
    "    bounds           = bounds\n",
    ")\n",
    "\n",
    "# --- (5) Test ---\n",
    "init_states = list(adapter.initial_states())\n",
    "print(\"Initial state:\", init_states)\n",
    "\n",
    "succs = list(adapter.successors(init_states[0]))\n",
    "print(\"Some successors:\", succs[:3])"
   ]
  },
  {
   "cell_type": "code",
   "execution_count": null,
   "metadata": {},
   "outputs": [],
   "source": []
  }
 ],
 "metadata": {
  "kernelspec": {
   "display_name": "pssimpy-web",
   "language": "python",
   "name": "python3"
  },
  "language_info": {
   "codemirror_mode": {
    "name": "ipython",
    "version": 3
   },
   "file_extension": ".py",
   "mimetype": "text/x-python",
   "name": "python",
   "nbconvert_exporter": "python",
   "pygments_lexer": "ipython3",
   "version": "3.12.5"
  }
 },
 "nbformat": 4,
 "nbformat_minor": 2
}
