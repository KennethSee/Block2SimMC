{
 "cells": [
  {
   "cell_type": "markdown",
   "metadata": {},
   "source": [
    "# Block2SimMC Demonstration"
   ]
  },
  {
   "cell_type": "code",
   "execution_count": 7,
   "metadata": {},
   "outputs": [],
   "source": [
    "from PSSimPy import Account, Transaction\n",
    "from PSSimPy.queues import PriorityQueue\n",
    "from abc import ABC, abstractmethod\n",
    "from dataclasses import dataclass, asdict\n",
    "from typing import Iterator, Tuple\n",
    "\n",
    "from modules import ScopeDefinition, PropertyExtraction, AdapterBounding, ModelBuilder, ModelChecker"
   ]
  },
  {
   "cell_type": "markdown",
   "metadata": {},
   "source": [
    "# Scope Definition"
   ]
  },
  {
   "cell_type": "code",
   "execution_count": 8,
   "metadata": {},
   "outputs": [],
   "source": [
    "contract_path = 'smart_contract/priority_queue.sol'\n",
    "scope_definition = ScopeDefinition(contract_path)\n",
    "scope = scope_definition.extract_scope()"
   ]
  },
  {
   "cell_type": "markdown",
   "metadata": {},
   "source": [
    "# Property Extraction"
   ]
  },
  {
   "cell_type": "code",
   "execution_count": 9,
   "metadata": {},
   "outputs": [],
   "source": [
    "prop_extractor = PropertyExtraction(scope, \"config.properties\")\n",
    "properties = prop_extractor.extract_properties()"
   ]
  },
  {
   "cell_type": "code",
   "execution_count": 10,
   "metadata": {},
   "outputs": [
    {
     "name": "stdout",
     "output_type": "stream",
     "text": [
      "{'safety': [('NoDoubleDequeue', AG (not dequeue or AX not dequeue))], 'liveness': [('EnqueueLeadsToDequeue', AG (not enqueue or EX dequeue))]}\n"
     ]
    }
   ],
   "source": [
    "print(properties)"
   ]
  },
  {
   "cell_type": "markdown",
   "metadata": {},
   "source": [
    "# Adapter & Bounding"
   ]
  },
  {
   "cell_type": "code",
   "execution_count": 11,
   "metadata": {},
   "outputs": [
    {
     "name": "stdout",
     "output_type": "stream",
     "text": [
      "INIT: [State(data=((), (5, 10)))]\n",
      "SUCCESSORS: [(State(data=((('acc1', 1, 0, 1, '08:00', 0),), (5, 10))), {'enqueue'}), (State(data=((('acc1', 1, 0, 1, '09:00', 0),), (5, 10))), {'enqueue'}), (State(data=((('acc1', 1, 0, 2, '08:00', 0),), (5, 10))), {'enqueue'}), (State(data=((('acc1', 1, 0, 2, '09:00', 0),), (5, 10))), {'enqueue'}), (State(data=((('acc1', 1, 1, 1, '08:00', 0),), (5, 10))), {'enqueue'})]\n"
     ]
    }
   ],
   "source": [
    "# (a) accounts setup\n",
    "accounts = [ Account(id='acc1', owner=None, balance=5),\n",
    "             Account(id='acc2', owner=None, balance=10) ]\n",
    "account_by_id    = {a.id: a for a in accounts}\n",
    "\n",
    "# (b) snapshot/load\n",
    "def pq_snapshot(pq: PriorityQueue):\n",
    "    \"\"\"\n",
    "    Return a fully hashable snapshot of:\n",
    "      - the queue as a tuple of (sender_id, amount, priority, day, time, period)\n",
    "      - the account balances\n",
    "    \"\"\"\n",
    "    entries = [\n",
    "        (\n",
    "            txn.sender_account.id,\n",
    "            txn.amount,\n",
    "            txn.priority,\n",
    "            txn.day,      # Transaction.day attribute\n",
    "            txn.time,     # Transaction.time attribute\n",
    "            period\n",
    "        )\n",
    "        for txn, period in pq.queue\n",
    "    ]\n",
    "    balances = tuple(acc.balance for acc in accounts)\n",
    "    return (tuple(entries), balances)\n",
    "\n",
    "\n",
    "def pq_load(pq: PriorityQueue, state):\n",
    "    \"\"\"\n",
    "    Rebuild the queue and account balances from that snapshot.\n",
    "    \"\"\"\n",
    "    entries, balances = state\n",
    "    pq.queue.clear()\n",
    "\n",
    "    for sid, amt, prio, day, time, period in entries:\n",
    "        txn = Transaction(\n",
    "            sender_account    = account_by_id[sid],\n",
    "            recipient_account = None,\n",
    "            amount            = amt,\n",
    "            priority          = prio,\n",
    "            day               = day,\n",
    "            time              = time\n",
    "        )\n",
    "        pq.queue.add((txn, period))\n",
    "\n",
    "    # restore balances\n",
    "    for acc, bal in zip(accounts, balances):\n",
    "        acc.balance = bal\n",
    "\n",
    "# (c) define a bounds generator for enqueue\n",
    "def enqueue_args() -> Iterator[Tuple]:\n",
    "    for sid in account_by_id:\n",
    "        for amt in (1, 2):\n",
    "            for prio in (0, 1):\n",
    "                for day in (1, 2):\n",
    "                    for time in (\"08:00\", \"09:00\"):\n",
    "                        # build txn with amount as positional arg\n",
    "                        txn = Transaction(\n",
    "                            account_by_id[sid],   # sender_account\n",
    "                            None,         # recipient_account\n",
    "                            amt,          # amount\n",
    "                            prio,         # priority\n",
    "                            day=day,\n",
    "                            time=time\n",
    "                        )\n",
    "                        yield (txn,)\n",
    "\n",
    "# (d) method_bounds\n",
    "MAX_LEN = 1\n",
    "method_bounds = {\n",
    "    \"enqueue\": {\n",
    "        \"args_generator\": enqueue_args,\n",
    "        \"label\":          \"enqueue\",\n",
    "        \"guard\":          lambda inst, args: len(inst.queue) < MAX_LEN\n",
    "    },\n",
    "    \"begin_dequeueing\": {\n",
    "        \"args_generator\": lambda: [()],\n",
    "        \"label\":          \"dequeue\",\n",
    "        \"guard\":          lambda inst,_: len(inst.queue) > 0\n",
    "    }\n",
    "}\n",
    "\n",
    "\n",
    "# (e) build and test\n",
    "adapter = AdapterBounding(\n",
    "    impl_cls=PriorityQueue,\n",
    "    snapshot_fn=pq_snapshot,\n",
    "    load_fn=pq_load,\n",
    "    method_bounds=method_bounds\n",
    ")\n",
    "\n",
    "init = list(adapter.initial_states())\n",
    "print(\"INIT:\", init)\n",
    "\n",
    "succ = list(adapter.successors(init[0]))\n",
    "print(\"SUCCESSORS:\", succ[:5])\n"
   ]
  },
  {
   "cell_type": "code",
   "execution_count": 12,
   "metadata": {},
   "outputs": [
    {
     "name": "stdout",
     "output_type": "stream",
     "text": [
      "level-1 transitions: 32\n",
      "level-2 transitions: 32\n"
     ]
    }
   ],
   "source": [
    "# Sanity check to make sure there is no state explosion\n",
    "init    = next(adapter.initial_states())\n",
    "succ0   = list(adapter.successors(init))\n",
    "print(\"level-1 transitions:\", len(succ0))    # should still be 32\n",
    "succ1   = sum(len(list(adapter.successors(s))) for s, _ in succ0)\n",
    "print(\"level-2 transitions:\", succ1)         # now 32 dequeues, 0 enqueues"
   ]
  },
  {
   "cell_type": "markdown",
   "metadata": {},
   "source": [
    "# Model Builder"
   ]
  },
  {
   "cell_type": "code",
   "execution_count": 13,
   "metadata": {},
   "outputs": [
    {
     "name": "stdout",
     "output_type": "stream",
     "text": [
      "States: 33\n",
      "Transitions: 64\n"
     ]
    }
   ],
   "source": [
    "builder = ModelBuilder([adapter])\n",
    "model   = builder.build() \n",
    "\n",
    "print(f\"States: {len(model.states)}\")\n",
    "print(f\"Transitions: {sum(len(v) for v in model.transitions.values())}\")"
   ]
  },
  {
   "cell_type": "markdown",
   "metadata": {},
   "source": [
    "# Model Checker"
   ]
  },
  {
   "cell_type": "code",
   "execution_count": 15,
   "metadata": {},
   "outputs": [
    {
     "name": "stdout",
     "output_type": "stream",
     "text": [
      "{'NoDoubleDequeue': True, 'EnqueueLeadsToDequeue': True}\n"
     ]
    }
   ],
   "source": [
    "checker = ModelChecker(model)\n",
    "results = checker.check(properties)\n",
    "print(results)"
   ]
  },
  {
   "cell_type": "code",
   "execution_count": null,
   "metadata": {},
   "outputs": [],
   "source": []
  }
 ],
 "metadata": {
  "kernelspec": {
   "display_name": "pssimpy-web",
   "language": "python",
   "name": "python3"
  },
  "language_info": {
   "codemirror_mode": {
    "name": "ipython",
    "version": 3
   },
   "file_extension": ".py",
   "mimetype": "text/x-python",
   "name": "python",
   "nbconvert_exporter": "python",
   "pygments_lexer": "ipython3",
   "version": "3.12.5"
  }
 },
 "nbformat": 4,
 "nbformat_minor": 2
}
